{
 "cells": [
  {
   "cell_type": "code",
   "execution_count": 1,
   "metadata": {},
   "outputs": [
    {
     "name": "stdout",
     "output_type": "stream",
     "text": [
      "[0.         0.95275444 0.86447381 0.89517152 0.77708871 0.94023857\n",
      " 0.73273876 0.92587507 0.88427249 0.90550888 0.83281654 0.88047714\n",
      " 0.83964325 0.87035926 0.87401184 0.94427218 0.84063619 0.9566445\n",
      " 0.94427218 0.88854436 0.84275727 0.82503645]\n"
     ]
    }
   ],
   "source": [
    "# функция возвращающая список уникальных значений в списке:\n",
    "def unique(l):\n",
    "    v = []\n",
    "    for i in l:\n",
    "        if i not in v:\n",
    "            v.append(i)\n",
    "    return v\n",
    "\n",
    "# Инструкция программы:\n",
    "\n",
    "#2\n",
    "f = str(open('sentences.txt', 'r').readlines()).lower() # привел текст файла к нижнему регистру\n",
    "\n",
    "#3\n",
    "import re # импортировал модуль re для использования регулярных выражений\n",
    "\n",
    "token_f = re.split('[^a-z]', f) # разделил на слова\n",
    "words = [w for w in token_f if w != 'n' and w != ''] # удалил пустые слова - список всех слов\n",
    "\n",
    "#4\n",
    "unique_words = unique(words) # список различных слов\n",
    "d = len(unique_words) # число уникальных слов\n",
    "keys = [i for i in range(d)] # определил список ключей массива (d = 254)\n",
    "dictionary_cats = dict(zip(keys, unique_words)) # создал словарь с ключами от 0 до 253\n",
    "\n",
    "#5\n",
    "import numpy as np  # импортировал модуль numpy для алгебраических операций\n",
    "\n",
    "n = len(open('sentences.txt').readlines()) # число строк в файле\n",
    "\n",
    "f = open('sentences.txt', 'r')\n",
    "sentences = [list(filter(None,re.split('[^a-z]', line.strip().lower()))) for line in f] # список списков слов в предложении\n",
    "\n",
    "words_matrix = np.zeros(shape=(n,d))\n",
    "for i in range(n):\n",
    "    for j in range(d):\n",
    "        words_matrix[i][j] = sentences[i].count(dictionary_cats[j]) # число слов j в предложении i\n",
    "\n",
    "#6\n",
    "import scipy.spatial.distance\n",
    "cos_matrix = []\n",
    "for i in range(n):\n",
    "    cos_matrix.append(scipy.spatial.distance.cosine(words_matrix[0], words_matrix[i]))\n",
    "cos_matrix = np.array(cos_matrix) \n",
    "print(cos_matrix)"
   ]
  }
 ],
 "metadata": {
  "kernelspec": {
   "display_name": "Python 3",
   "language": "python",
   "name": "python3"
  },
  "language_info": {
   "codemirror_mode": {
    "name": "ipython",
    "version": 3
   },
   "file_extension": ".py",
   "mimetype": "text/x-python",
   "name": "python",
   "nbconvert_exporter": "python",
   "pygments_lexer": "ipython3",
   "version": "3.7.3"
  }
 },
 "nbformat": 4,
 "nbformat_minor": 2
}
